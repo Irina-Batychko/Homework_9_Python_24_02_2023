{
  "nbformat": 4,
  "nbformat_minor": 0,
  "metadata": {
    "colab": {
      "provenance": [],
      "authorship_tag": "ABX9TyORov382py7cw3o3BqbI3cF",
      "include_colab_link": true
    },
    "kernelspec": {
      "name": "python3",
      "display_name": "Python 3"
    },
    "language_info": {
      "name": "python"
    }
  },
  "cells": [
    {
      "cell_type": "markdown",
      "metadata": {
        "id": "view-in-github",
        "colab_type": "text"
      },
      "source": [
        "<a href=\"https://colab.research.google.com/github/Irina-Batychko/Irina-Batychko-Homework_9_Python_24_02_2023/blob/main/untitled3.ipynb\" target=\"_parent\"><img src=\"https://colab.research.google.com/assets/colab-badge.svg\" alt=\"Open In Colab\"/></a>"
      ]
    },
    {
      "cell_type": "markdown",
      "source": [
        "Задача 40:\n",
        "\n",
        "---\n",
        "\n",
        "\n",
        "Работать с файлом california_housing_train.csv, который находится в \n",
        "папке sample_data. Определить среднюю стоимость дома, где кол-во людей от 0 до 500 (population)"
      ],
      "metadata": {
        "id": "hlBnDtLumUfF"
      }
    },
    {
      "cell_type": "code",
      "source": [
        "import pandas as pd\n",
        "\n",
        "\n",
        "df = pd.read_csv('sample_data/california_housing_train.csv')\n",
        "\n",
        "df.loc[(df['population'] > 0) & (df['population'] < 500), 'median_house_value'].mean()"
      ],
      "metadata": {
        "colab": {
          "base_uri": "https://localhost:8080/"
        },
        "id": "IRj9b71MmtDw",
        "outputId": "fc9842e2-7687-4818-e2de-ff9458c415c6"
      },
      "execution_count": null,
      "outputs": [
        {
          "output_type": "execute_result",
          "data": {
            "text/plain": [
              "206683.83635227982"
            ]
          },
          "metadata": {},
          "execution_count": 7
        }
      ]
    },
    {
      "cell_type": "markdown",
      "source": [
        "Задача 42:\n",
        "\n",
        "---\n",
        "\n",
        "\n",
        " Узнать какая максимальная households в зоне минимального значения population"
      ],
      "metadata": {
        "id": "zpdIwGrgm4tO"
      }
    },
    {
      "cell_type": "code",
      "source": [
        "df.loc[df['population'].min() == df['population'], 'households']"
      ],
      "metadata": {
        "colab": {
          "base_uri": "https://localhost:8080/"
        },
        "id": "uMK4FOmEnCpZ",
        "outputId": "38469f38-ed7f-4cc7-9fa3-a86455a15e84"
      },
      "execution_count": null,
      "outputs": [
        {
          "output_type": "execute_result",
          "data": {
            "text/plain": [
              "8232    4.0\n",
              "Name: households, dtype: float64"
            ]
          },
          "metadata": {},
          "execution_count": 6
        }
      ]
    }
  ]
}